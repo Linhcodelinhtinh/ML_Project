{
 "cells": [
  {
   "cell_type": "code",
   "id": "initial_id",
   "metadata": {
    "collapsed": true
   },
   "source": [
    "import pandas as pd\n",
    "import re\n",
    "import pickle\n",
    "import random"
   ],
   "outputs": [],
   "execution_count": null
  },
  {
   "metadata": {},
   "cell_type": "code",
   "source": [
    "data = pd.read_csv('final_data.csv', index_col=0)\n",
    "data"
   ],
   "id": "4aa1b7e52c0d3ca7",
   "outputs": [],
   "execution_count": null
  },
  {
   "metadata": {},
   "cell_type": "code",
   "source": [
    "data.loc[0, 'SCOREMARGIN'] = 0\n",
    "for i in range(1, 124992):\n",
    "    if pd.isna(data.loc[i, 'SCOREMARGIN']) or data.loc[i, 'SCOREMARGIN'] == 0:\n",
    "        data.loc[i, 'SCOREMARGIN'] = data.loc[i - 1, 'SCOREMARGIN']\n",
    "    if data.loc[i, 'PERIOD'] == 1 and data.loc[i-1, 'PERIOD'] == 4:\n",
    "        data.loc[i, 'SCOREMARGIN'] = 0\n",
    "data.loc[data['SCOREMARGIN'] == \"TIE\", 'SCOREMARGIN'] = 0\n",
    "data"
   ],
   "id": "8bfd80a49faf6357",
   "outputs": [],
   "execution_count": null
  },
  {
   "metadata": {},
   "cell_type": "code",
   "source": [
    "data.loc[0, 'SCORE'] = \"0 - 0\"\n",
    "for i in range(1, 124992):\n",
    "    if pd.isna(data.loc[i, 'SCORE']) or data.loc[i, 'SCORE'] == \"0 - 0\":\n",
    "        data.loc[i, 'SCORE'] = data.loc[i - 1, 'SCORE']\n",
    "    if data.loc[i, 'PERIOD'] == 1 and data.loc[i-1, 'PERIOD'] == 4:\n",
    "        data.loc[i, 'SCORE'] = \"0 - 0\"\n",
    "        \n",
    "data"
   ],
   "id": "9e805bb2e6121160",
   "outputs": [],
   "execution_count": null
  },
  {
   "metadata": {},
   "cell_type": "code",
   "source": [
    "SCORE_1 = []\n",
    "SCORE_2 = []\n",
    "for i in range(124992):\n",
    "    match = re.match(r\"(\\d+)\\s*-\\s*(\\d+)\", data.loc[i, 'SCORE'])\n",
    "    if match:\n",
    "        SCORE_1.append(int(match.group(1)))\n",
    "        SCORE_2.append(int(match.group(2)))\n",
    "data['SCORE_1'] = SCORE_1\n",
    "data['SCORE_2'] = SCORE_2"
   ],
   "id": "2519baca1694c3be",
   "outputs": [],
   "execution_count": null
  },
  {
   "metadata": {},
   "cell_type": "code",
   "source": "data.drop(columns=['SCORE'], inplace=True)",
   "id": "a426c99267c26dc5",
   "outputs": [],
   "execution_count": null
  },
  {
   "metadata": {},
   "cell_type": "code",
   "source": [
    "result = []\n",
    "for i in range(124991):\n",
    "    if data.loc[i, 'PERIOD'] == 4 and (data.loc[i+1, 'PERIOD'] == 1):\n",
    "        if data.loc[i, 'SCORE_1'] > data.loc[i, 'SCORE_2']:\n",
    "            result.append(data.loc[i, 'TEAM_1'])\n",
    "        else:\n",
    "            result.append(data.loc[i, 'TEAM_2'])\n",
    "if data.loc[124991, 'SCORE_1'] > data.loc[124991, 'SCORE_2']:\n",
    "    result.append(data.loc[124991, 'TEAM_1'])\n",
    "else:\n",
    "    result.append(data.loc[124991, 'TEAM_2'])\n",
    "result"
   ],
   "id": "68eaa7124841de16",
   "outputs": [],
   "execution_count": null
  },
  {
   "metadata": {},
   "cell_type": "code",
   "source": [
    "j = 0\n",
    "data['WINNER'] = pd.Series()\n",
    "for i in range(124991):\n",
    "    data.loc[i, 'WINNER'] = result[j]\n",
    "    if data.loc[i, 'PERIOD'] == 4 and (data.loc[i+1, 'PERIOD'] == 1):\n",
    "        j+=1\n",
    "data.loc[124991, \"WINNER\"] = result[j]\n",
    "data"
   ],
   "id": "1509d8041c9ae4ad",
   "outputs": [],
   "execution_count": null
  },
  {
   "metadata": {},
   "cell_type": "code",
   "source": [
    "data.loc[data['PERIOD'] > 1,'TIME_REMAINING'] += 720*(data['PERIOD']-1)\n",
    "data"
   ],
   "id": "442518e136a128f7",
   "outputs": [],
   "execution_count": null
  },
  {
   "metadata": {},
   "cell_type": "code",
   "source": "# data.to_csv('final_data.csv')\n",
   "id": "7193c520cd6334a3",
   "outputs": [],
   "execution_count": null
  },
  {
   "metadata": {},
   "cell_type": "code",
   "source": [
    "data = pd.read_csv('final_data.csv', index_col=0)\n",
    "data"
   ],
   "id": "9de1e0996d800a75",
   "outputs": [],
   "execution_count": null
  },
  {
   "metadata": {},
   "cell_type": "code",
   "source": "data.SCOREMARGIN = -1*data.SCOREMARGIN",
   "id": "57e71c3e43053837",
   "outputs": [],
   "execution_count": null
  },
  {
   "metadata": {},
   "cell_type": "code",
   "source": [
    "grouped = data.groupby(['GAME_ID'])\n",
    "grouped_dataframes = [group for _, group in grouped]\n",
    "random.shuffle(grouped_dataframes)\n",
    "grouped_dataframes[263]"
   ],
   "id": "6c8bc43a4fd18ebe",
   "outputs": [],
   "execution_count": null
  },
  {
   "metadata": {},
   "cell_type": "code",
   "source": [
    "with open('train_set.pkl', 'wb') as file:\n",
    "    pickle.dump(grouped_dataframes[:184], file)\n",
    "with open('test_set.pkl', 'wb') as file:\n",
    "    pickle.dump(grouped_dataframes[184:], file)"
   ],
   "id": "92bd9b357e1dd71f",
   "outputs": [],
   "execution_count": null
  },
  {
   "metadata": {},
   "cell_type": "code",
   "source": [
    "with open('test_set.pkl', 'rb') as file:\n",
    "    loaded_list = pickle.load(file)\n",
    "\n",
    "# Access the DataFrames\n",
    "loaded_list[0]"
   ],
   "id": "94b3db777d228daf",
   "outputs": [],
   "execution_count": null
  }
 ],
 "metadata": {
  "kernelspec": {
   "display_name": "Python 3",
   "language": "python",
   "name": "python3"
  },
  "language_info": {
   "codemirror_mode": {
    "name": "ipython",
    "version": 2
   },
   "file_extension": ".py",
   "mimetype": "text/x-python",
   "name": "python",
   "nbconvert_exporter": "python",
   "pygments_lexer": "ipython2",
   "version": "2.7.6"
  }
 },
 "nbformat": 4,
 "nbformat_minor": 5
}
