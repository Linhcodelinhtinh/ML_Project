{
 "cells": [
  {
   "metadata": {
    "ExecuteTime": {
     "end_time": "2024-12-04T06:28:14.664502Z",
     "start_time": "2024-12-04T06:28:10.265149Z"
    }
   },
   "cell_type": "code",
   "source": [
    "import numpy as np\n",
    "import pandas as pd\n",
    "import sklearn\n",
    "import matplotlib.pyplot as plt\n",
    "import unicodedata\n",
    "import math"
   ],
   "id": "55f750e00b8fefe1",
   "outputs": [],
   "execution_count": 1
  },
  {
   "metadata": {},
   "cell_type": "code",
   "source": [
    "# rookie_stats = pd.read_csv('Summer_league.csv')\n",
    "# rookie_stats"
   ],
   "id": "c4f420f14658ff7c",
   "outputs": [],
   "execution_count": null
  },
  {
   "metadata": {},
   "cell_type": "code",
   "source": [
    "previous_season = pd.read_csv('previous_season.csv')\n",
    "previous_season.head()"
   ],
   "id": "c975abbe3eb99f80",
   "outputs": [],
   "execution_count": null
  },
  {
   "metadata": {},
   "cell_type": "code",
   "source": [
    "player_stats = pd.read_csv('this_season.csv')\n",
    "player_stats.columns = ['Player',\t'TEAM',\t'Age',\t'GP',\t'W',\t'L',\t'MIN',\t'PTS',\t'FGM',\t'FGA',\t'FG%',\t'3PM',\t'3PA',\t'3P%',\t'FTM',\t'FTA',\t'FT%',\t'OREB',\t'DREB',\t'REB',\t'AST',\t'TOV',\t'STL',\t'BLK',\t'PF',\t'FP',\t'DD2',\t'TD3',\t'+/-']\n",
    "player_stats.head()"
   ],
   "id": "164327a1bf30cc0d",
   "outputs": [],
   "execution_count": null
  },
  {
   "metadata": {},
   "cell_type": "code",
   "source": [
    "# nam = []\n",
    "# for player in previous_season['Player']:\n",
    "#     nam.append(unicodedata.normalize('NFKD', player).encode('ascii', 'ignore').decode('utf-8'))\n",
    "# previous_season['Player'] = nam\n",
    "# previous_season.Player"
   ],
   "id": "7053fc408594a74",
   "outputs": [],
   "execution_count": null
  },
  {
   "metadata": {},
   "cell_type": "code",
   "source": [
    "# name = []\n",
    "# for player in player_stats['Player']:\n",
    "#     name.append(unicodedata.normalize('NFKD', player).encode('ascii', 'ignore').decode('utf-8'))\n",
    "# name\n",
    "# player_stats['Player'] = name"
   ],
   "id": "b9f23880bdba8dc1",
   "outputs": [],
   "execution_count": null
  },
  {
   "metadata": {},
   "cell_type": "code",
   "source": [
    "GP = player_stats['GP']\n",
    "MIN = previous_season['MIN']\n",
    "PTS = previous_season['PTS']\n",
    "FGM = previous_season['FGM']\n",
    "FGA = previous_season['FGA']\n",
    "three_point = previous_season['3PM']\n",
    "FTM = previous_season['FTM']\n",
    "FTA = previous_season['FTA']\n",
    "REB = previous_season['REB']\n",
    "AST = previous_season['AST']\n",
    "STL = previous_season['STL']\n",
    "BLK = previous_season['BLK']\n",
    "TOV = previous_season['TOV']\n",
    "\n",
    "previous_season_ppi = pd.DataFrame()\n",
    "# previous_season_ppi['PPI'] = ((1.5*PTS+1.2*REB+1.3*AST+2*STL+2*BLK+0.9*FGM+2*three_point+FTM)-(1.5*TOV+0.5*FGA+0.5*FTA))/MIN\n",
    "previous_season_ppi['PPI'] = ((1.5*PTS+1.2*REB+1.3*AST+2*STL+2*BLK+0.9*FGM+2*three_point+FTM+MIN*GP)-(1.5*TOV+0.5*FGA+0.5*FTA))/(6*MIN+6*GP)\n",
    "previous_season_ppi.insert(0, 'Player', previous_season['Player'])\n",
    "previous_season_ppi.insert(1, 'TEAM', previous_season['TEAM'])\n",
    "(previous_season_ppi)"
   ],
   "id": "a01eca589de41f07",
   "outputs": [],
   "execution_count": null
  },
  {
   "metadata": {},
   "cell_type": "code",
   "source": "previous_season_ppi",
   "id": "ef78b194ce15f9ff",
   "outputs": [],
   "execution_count": null
  },
  {
   "metadata": {},
   "cell_type": "markdown",
   "source": "PPI this season\n",
   "id": "cdea25821464abb"
  },
  {
   "metadata": {},
   "cell_type": "code",
   "source": "previous_season_ppi.to_csv('previous_season_ppi.csv')",
   "id": "36f4a475df2a3c7f",
   "outputs": [],
   "execution_count": null
  },
  {
   "metadata": {},
   "cell_type": "code",
   "source": [
    "GP = player_stats['GP']\n",
    "MIN = player_stats['MIN']\n",
    "PTS = player_stats['PTS']\n",
    "FGM = player_stats['FGM']\n",
    "FGA = player_stats['FGA']\n",
    "three_point = player_stats['3PM']\n",
    "FTM = player_stats['FTM']\n",
    "FTA = player_stats['FTA']\n",
    "REB = player_stats['REB']\n",
    "AST = player_stats['AST']\n",
    "STL = player_stats['STL']\n",
    "BLK = player_stats['BLK']\n",
    "TOV = player_stats['TOV']\n",
    "\n",
    "player_ppi = pd.DataFrame()\n",
    "player_ppi['PPI'] = ((1.5*PTS+1.2*REB+1.3*AST+2*STL+2*BLK+0.9*FGM+2*three_point+FTM+MIN*GP)*0.8-(1.5*TOV+0.5*FGA+0.5*FTA))/(5*MIN+5*GP)\n",
    "\n",
    "player_ppi.insert(0, 'Player', player_stats['Player'])\n",
    "player_ppi.insert(1, 'TEAM', player_stats['TEAM'])\n",
    "player_ppi"
   ],
   "id": "ece7af24afa262a6",
   "outputs": [],
   "execution_count": null
  },
  {
   "metadata": {},
   "cell_type": "code",
   "source": [
    "temp = pd.merge(player_ppi, previous_season_ppi, on=['Player', 'TEAM'], how='left')\n",
    "temp.columns = ['Player', 'TEAM', 'This Season', 'Previous Season']\n",
    "temp['PPI'] = np.where(\n",
    "    temp['Previous Season'].isna(),  # Check if PPI_y is NaN\n",
    "    temp['This Season'],         # If true, use PPI_x\n",
    "    0.6 * temp['Previous Season'] + 0.4 * temp['This Season']  # Otherwise, use the weighted formula\n",
    ")\n",
    "temp"
   ],
   "id": "6ec6d5ad39cd40fc",
   "outputs": [],
   "execution_count": null
  },
  {
   "metadata": {},
   "cell_type": "code",
   "source": "temp.drop(columns=['This Season', 'Previous Season'], inplace=True)",
   "id": "29212f26bff2da84",
   "outputs": [],
   "execution_count": null
  },
  {
   "metadata": {},
   "cell_type": "code",
   "source": "temp.to_csv('Player_PPI.csv')",
   "id": "bfc2aabc3835ecfe",
   "outputs": [],
   "execution_count": null
  },
  {
   "metadata": {},
   "cell_type": "code",
   "source": "data = pd.read_csv('Player_PPI.csv')",
   "id": "fdef4d83511ecee8",
   "outputs": [],
   "execution_count": null
  },
  {
   "metadata": {},
   "cell_type": "code",
   "source": [
    "def take(player):\n",
    "    return temp.loc[data.Player == player, 'PPI']\n",
    "(take(\"Alondes Williams\"))"
   ],
   "id": "4fd689148e19b19e",
   "outputs": [],
   "execution_count": null
  },
  {
   "metadata": {
    "ExecuteTime": {
     "end_time": "2024-12-04T05:05:56.468360Z",
     "start_time": "2024-12-04T05:05:56.132674Z"
    }
   },
   "cell_type": "code",
   "source": "t = pd.read_csv('Player_PPI.csv', index_col=0)",
   "id": "f2762effd088ea57",
   "outputs": [
    {
     "ename": "NameError",
     "evalue": "name 'pd' is not defined",
     "output_type": "error",
     "traceback": [
      "\u001B[1;31m---------------------------------------------------------------------------\u001B[0m",
      "\u001B[1;31mNameError\u001B[0m                                 Traceback (most recent call last)",
      "Cell \u001B[1;32mIn[1], line 1\u001B[0m\n\u001B[1;32m----> 1\u001B[0m t \u001B[38;5;241m=\u001B[39m \u001B[43mpd\u001B[49m\u001B[38;5;241m.\u001B[39mread_csv(\u001B[38;5;124m'\u001B[39m\u001B[38;5;124mPlayer_PPI.csv\u001B[39m\u001B[38;5;124m'\u001B[39m, index_col\u001B[38;5;241m=\u001B[39m\u001B[38;5;241m0\u001B[39m)\n",
      "\u001B[1;31mNameError\u001B[0m: name 'pd' is not defined"
     ]
    }
   ],
   "execution_count": 1
  },
  {
   "metadata": {},
   "cell_type": "code",
   "source": "t",
   "id": "e17c17548bca6e91",
   "outputs": [],
   "execution_count": null
  }
 ],
 "metadata": {
  "kernelspec": {
   "display_name": "Python 3",
   "language": "python",
   "name": "python3"
  },
  "language_info": {
   "codemirror_mode": {
    "name": "ipython",
    "version": 2
   },
   "file_extension": ".py",
   "mimetype": "text/x-python",
   "name": "python",
   "nbconvert_exporter": "python",
   "pygments_lexer": "ipython2",
   "version": "2.7.6"
  }
 },
 "nbformat": 4,
 "nbformat_minor": 5
}
