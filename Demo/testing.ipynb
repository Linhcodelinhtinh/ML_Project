{
 "cells": [
  {
   "cell_type": "code",
   "id": "initial_id",
   "metadata": {
    "collapsed": true,
    "ExecuteTime": {
     "end_time": "2024-12-05T14:51:36.875866Z",
     "start_time": "2024-12-05T14:51:36.871335Z"
    }
   },
   "source": [
    "import tkinter as tk\n",
    "from tkinter import messagebox\n",
    "import numpy as np\n",
    "import pandas as pd\n",
    "import sklearn\n",
    "import xgboost as xgb\n",
    "from sklearn.preprocessing import StandardScaler\n",
    "from sklearn.preprocessing import LabelEncoder\n",
    "import joblib\n"
   ],
   "outputs": [],
   "execution_count": 21
  },
  {
   "metadata": {
    "ExecuteTime": {
     "end_time": "2024-12-05T15:01:27.470674Z",
     "start_time": "2024-12-05T15:01:27.017539Z"
    }
   },
   "cell_type": "code",
   "source": [
    "\n",
    "# Initialize global variables\n",
    "user_balance = 10000  # Initial balance\n",
    "selected_bet = None  # Keeps track of the selected bet button\n",
    "\n",
    "data = pd.read_csv('C:/Users/Admin/Desktop/ML/ML_Project/Get Data/Data/final_data.csv')\n",
    "model = xgb.Booster()\n",
    "model.load_model('model.json')\n",
    "\n",
    "stats = [[5, 1280, 2, 'NYC', 'BOS', 1.9, 1.8, 1.7, 1.6, 1.5, 2.0, 1.9, 1.7, 1.5, 1.5, 45, 40],\n",
    "         [7, 2000, 3, 'NYC', 'BOS', 2.0, 1.7, 1.75, 1.62, 1.53, 2.2, 1.91, 1.76, 1.54, 1.52, 85, 77]]\n",
    "prediction_data = pd.DataFrame(\n",
    "    stats,\n",
    "    columns=[\n",
    "        'SCOREMARGIN', 'TIME_REMAINING', 'PERIOD', 'TEAM_1', 'TEAM_2',\n",
    "        'PLAYER_1.1', 'PLAYER_1.2', 'PLAYER_1.3', 'PLAYER_1.4', 'PLAYER_1.5',\n",
    "        'PLAYER_2.1', 'PLAYER_2.2', 'PLAYER_2.3', 'PLAYER_2.4', 'PLAYER_2.5',\n",
    "        'SCORE_1', 'SCORE_2'\n",
    "    ]\n",
    ")\n",
    "# Preprocessing\n",
    "numerical_cols = [\n",
    "    'SCOREMARGIN', 'TIME_REMAINING', 'PERIOD', 'PLAYER_1.1', 'PLAYER_1.2',\n",
    "    'PLAYER_1.3', 'PLAYER_1.4', 'PLAYER_1.5', 'PLAYER_2.1', 'PLAYER_2.2',\n",
    "    'PLAYER_2.3', 'PLAYER_2.4', 'PLAYER_2.5'  # Numerical feature names\n",
    "]\n",
    "categorical_cols = [\"TEAM_1\", \"TEAM_2\"]\n",
    "# Scale numerical features\n",
    "# scaler = joblib.load('scaler.pkl')\n",
    "# prediction_data[numerical_cols] = scaler.fit_transform(prediction_data[numerical_cols])\n",
    "# Encode categorical features\n",
    "label_encoders = {}\n",
    "for col in categorical_cols:\n",
    "    le = LabelEncoder()\n",
    "    prediction_data[col] = le.fit_transform(prediction_data[col])\n",
    "    label_encoders[col] = le\n",
    "demo = xgb.DMatrix(prediction_data)\n",
    "pred = model.predict(demo)\n",
    "pred\n",
    "# prediction_data"
   ],
   "id": "abde976224112f1d",
   "outputs": [
    {
     "data": {
      "text/plain": [
       "array([0.56791353, 0.5991383 ], dtype=float32)"
      ]
     },
     "execution_count": 22,
     "metadata": {},
     "output_type": "execute_result"
    }
   ],
   "execution_count": 22
  },
  {
   "metadata": {},
   "cell_type": "code",
   "outputs": [],
   "execution_count": null,
   "source": "",
   "id": "1b287258abe1def0"
  }
 ],
 "metadata": {
  "kernelspec": {
   "display_name": "Python 3",
   "language": "python",
   "name": "python3"
  },
  "language_info": {
   "codemirror_mode": {
    "name": "ipython",
    "version": 2
   },
   "file_extension": ".py",
   "mimetype": "text/x-python",
   "name": "python",
   "nbconvert_exporter": "python",
   "pygments_lexer": "ipython2",
   "version": "2.7.6"
  }
 },
 "nbformat": 4,
 "nbformat_minor": 5
}
