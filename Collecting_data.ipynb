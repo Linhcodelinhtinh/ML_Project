{
 "cells": [
  {
   "metadata": {},
   "cell_type": "code",
   "source": [
    "import numpy as np\n",
    "import pandas as pd\n",
    "import sklearn\n",
    "import matplotlib.pyplot as plt\n",
    "import unicodedata\n",
    "import math"
   ],
   "id": "55f750e00b8fefe1",
   "outputs": [],
   "execution_count": null
  },
  {
   "metadata": {},
   "cell_type": "code",
   "source": [
    "rookie_stats = pd.read_csv('Summer_league.csv')\n",
    "rookie_stats"
   ],
   "id": "c4f420f14658ff7c",
   "outputs": [],
   "execution_count": null
  },
  {
   "metadata": {},
   "cell_type": "code",
   "source": [
    "previous_season = pd.read_csv('previous_season.csv')\n",
    "previous_season.head()"
   ],
   "id": "c975abbe3eb99f80",
   "outputs": [],
   "execution_count": null
  },
  {
   "metadata": {},
   "cell_type": "code",
   "source": [
    "player_stats = pd.read_csv('player_stats.csv')\n",
    "player_stats.head()"
   ],
   "id": "164327a1bf30cc0d",
   "outputs": [],
   "execution_count": null
  },
  {
   "metadata": {},
   "cell_type": "code",
   "source": [
    "# nam = []\n",
    "# for player in previous_season['Player']:\n",
    "#     nam.append(unicodedata.normalize('NFKD', player).encode('ascii', 'ignore').decode('utf-8'))\n",
    "# previous_season['Player'] = nam\n",
    "# previous_season.Player"
   ],
   "id": "7053fc408594a74",
   "outputs": [],
   "execution_count": null
  },
  {
   "metadata": {},
   "cell_type": "code",
   "source": [
    "# name = []\n",
    "# for player in player_stats['Player']:\n",
    "#     name.append(unicodedata.normalize('NFKD', player).encode('ascii', 'ignore').decode('utf-8'))\n",
    "# name\n",
    "# player_stats['Player'] = name"
   ],
   "id": "b9f23880bdba8dc1",
   "outputs": [],
   "execution_count": null
  },
  {
   "metadata": {},
   "cell_type": "code",
   "source": [
    "MIN = previous_season['MIN']\n",
    "PTS = previous_season['PTS']\n",
    "FGM = previous_season['FGM']\n",
    "FGA = previous_season['FGA']\n",
    "three_point = previous_season['3PM']\n",
    "FTM = previous_season['FTM']\n",
    "FTA = previous_season['FTA']\n",
    "REB = previous_season['REB']\n",
    "AST = previous_season['AST']\n",
    "STL = previous_season['STL']\n",
    "BLK = previous_season['BLK']\n",
    "TOV = previous_season['TOV']\n",
    "\n",
    "previous_season_ppi = pd.DataFrame()\n",
    "previous_season_ppi['PPI'] = ((1.5*PTS+1.2*REB+1.3*AST+2*STL+2*BLK+0.9*FGM+2*three_point+FTM)-(1.5*TOV+0.5*FGA+0.5*FTA))/MIN\n",
    "\n",
    "previous_season_ppi.insert(0, 'Player', previous_season['Player'])\n",
    "previous_season_ppi.insert(1, 'TEAM', previous_season['TEAM'])\n",
    "(previous_season_ppi)"
   ],
   "id": "a01eca589de41f07",
   "outputs": [],
   "execution_count": null
  },
  {
   "metadata": {},
   "cell_type": "code",
   "source": [
    "previous_season_ppi = pd.read_csv('previous_season_ppi.csv', index_col=0)\n",
    "previous_season_ppi"
   ],
   "id": "ef78b194ce15f9ff",
   "outputs": [],
   "execution_count": null
  },
  {
   "metadata": {},
   "cell_type": "code",
   "source": [
    "def take(player):\n",
    "    return previous_season_ppi.PPI[previous_season_ppi.Player == player]"
   ],
   "id": "e6d150182dab603b",
   "outputs": [],
   "execution_count": null
  },
  {
   "metadata": {},
   "cell_type": "code",
   "source": "take(\"OG Anunoby\")",
   "id": "500bfaeac31af477",
   "outputs": [],
   "execution_count": null
  },
  {
   "metadata": {},
   "cell_type": "markdown",
   "source": "PPI this season\n",
   "id": "cdea25821464abb"
  },
  {
   "metadata": {},
   "cell_type": "code",
   "source": "previous_season_ppi.to_csv('previous_season_ppi.csv')",
   "id": "36f4a475df2a3c7f",
   "outputs": [],
   "execution_count": null
  },
  {
   "metadata": {},
   "cell_type": "code",
   "source": [
    "MIN = player_stats['MIN']\n",
    "PTS = player_stats['PTS']\n",
    "FGM = player_stats['FGM']\n",
    "FGA = player_stats['FGA']\n",
    "three_point = player_stats['3PM']\n",
    "FTM = player_stats['FTM']\n",
    "FTA = player_stats['FTA']\n",
    "REB = player_stats['REB']\n",
    "AST = player_stats['AST']\n",
    "STL = player_stats['STL']\n",
    "BLK = player_stats['BLK']\n",
    "TOV = player_stats['TOV']\n",
    "\n",
    "player_ppi = pd.DataFrame()\n",
    "player_ppi['PPI'] = ((1.5*PTS+1.2*REB+1.3*AST+2*STL+2*BLK+0.9*FGM+2*three_point+FTM)-(1.5*TOV+0.5*FGA+0.5*FTA))/MIN\n",
    "\n",
    "player_ppi.insert(0, 'Player', player_stats['Player'])\n",
    "player_ppi.insert(1, 'TEAM', player_stats['TEAM'])\n",
    "player_ppi"
   ],
   "id": "ece7af24afa262a6",
   "outputs": [],
   "execution_count": null
  },
  {
   "metadata": {},
   "cell_type": "code",
   "source": [
    "temp = pd.merge(player_ppi, previous_season_ppi, on=['Player', 'TEAM'], how='left')\n",
    "temp"
   ],
   "id": "6ec6d5ad39cd40fc",
   "outputs": [],
   "execution_count": null
  },
  {
   "metadata": {},
   "cell_type": "code",
   "source": [
    "temp['Gross PPI'] = np.where(\n",
    "    temp['PPI_y'].isna(),  # Check if PPI_y is NaN\n",
    "    temp['PPI_x'],         # If true, use PPI_x\n",
    "    0.35 * temp['PPI_y'] + 0.65 * temp['PPI_x']  # Otherwise, use the weighted formula\n",
    ")\n",
    "temp"
   ],
   "id": "2ed8121218090a18",
   "outputs": [],
   "execution_count": null
  },
  {
   "metadata": {},
   "cell_type": "code",
   "source": "temp.drop(columns=['PPI_x', 'PPI_y'], inplace=True)",
   "id": "29212f26bff2da84",
   "outputs": [],
   "execution_count": null
  },
  {
   "metadata": {},
   "cell_type": "code",
   "source": [
    "print(temp)\n",
    "type(player_ppi)"
   ],
   "id": "545522f2cfc73501",
   "outputs": [],
   "execution_count": null
  },
  {
   "metadata": {},
   "cell_type": "code",
   "source": [
    "player_ppi = temp\n",
    "INPUT = player_ppi.to_numpy()\n",
    "print(INPUT.shape)\n",
    "(INPUT)"
   ],
   "id": "ee720c245ddaceec",
   "outputs": [],
   "execution_count": null
  },
  {
   "metadata": {},
   "cell_type": "code",
   "source": "np.save('INPUT.npy', INPUT)",
   "id": "72d2e46d805cff96",
   "outputs": [],
   "execution_count": null
  },
  {
   "metadata": {},
   "cell_type": "code",
   "source": [
    "data = np.load('INPUT.npy', allow_pickle=True)\n",
    "data = pd.DataFrame(data, columns=['Player', 'TEAM', 'PPI'])"
   ],
   "id": "2de6b006288f2ed3",
   "outputs": [],
   "execution_count": null
  },
  {
   "metadata": {},
   "cell_type": "code",
   "source": "data",
   "id": "bfc2aabc3835ecfe",
   "outputs": [],
   "execution_count": null
  }
 ],
 "metadata": {
  "kernelspec": {
   "display_name": "Python 3",
   "language": "python",
   "name": "python3"
  },
  "language_info": {
   "codemirror_mode": {
    "name": "ipython",
    "version": 2
   },
   "file_extension": ".py",
   "mimetype": "text/x-python",
   "name": "python",
   "nbconvert_exporter": "python",
   "pygments_lexer": "ipython2",
   "version": "2.7.6"
  }
 },
 "nbformat": 4,
 "nbformat_minor": 5
}
