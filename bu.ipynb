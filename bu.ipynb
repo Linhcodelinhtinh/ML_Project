{
 "cells": [
  {
   "cell_type": "code",
   "id": "initial_id",
   "metadata": {
    "collapsed": true
   },
   "source": [
    "import requests\n",
    "import nba_api\n",
    "import numpy as np\n",
    "import pandas as pd\n",
    "import matplotlib.pyplot as plt\n",
    "import datetime\n",
    "from nba_api.stats.endpoints import playercareerstats\n",
    "from nba_api.live.nba.endpoints import scoreboard\n",
    "from nba_api.stats.endpoints import scoreboardv2\n",
    "from nba_api.stats.endpoints import playbyplayv2\n",
    "from datetime import datetime, timedelta\n",
    "from nba_api.stats.endpoints import boxscoretraditionalv2\n",
    "from time import sleep"
   ],
   "outputs": [],
   "execution_count": null
  },
  {
   "metadata": {},
   "cell_type": "code",
   "source": [
    "today = datetime.today()\n",
    "start_date = datetime(2024, 10, 22)\n",
    "date_list = [start_date + timedelta(days=x) for x in range((today - start_date).days)]\n",
    "\n",
    "# Print the list of dates\n",
    "for date in date_list:\n",
    "    print(date.strftime('%Y-%m-%d'))"
   ],
   "id": "7bd1f8ce0cfaecd3",
   "outputs": [],
   "execution_count": null
  },
  {
   "metadata": {},
   "cell_type": "code",
   "source": [
    "games_df = pd.DataFrame()\n",
    "# Step 1: Specify the Date (e.g., today's date)\n",
    "for date in date_list:\n",
    "# Step 2: Fetch Games on the Date\n",
    "    try:\n",
    "        scoreboard_data = scoreboardv2.ScoreboardV2(game_date=date)\n",
    "        scoreboard = scoreboard_data.get_data_frames()[0]\n",
    "        # Step 3: Convert to DataFrame\n",
    "        games_df = pd.concat([games_df, scoreboard], ignore_index=True)\n",
    "        sleep(0.5)\n",
    "    except Exception as e:\n",
    "        print(f\"Failed to fetch data\")\n",
    "        \n",
    "# Step 4: Extract Relevant Game Info\n",
    "# print(games_df[['GAME_ID', 'HOME_TEAM_ID', 'VISITOR_TEAM_ID', 'GAME_STATUS_TEXT']])\n"
   ],
   "id": "dc1c5a9c9355f62",
   "outputs": [],
   "execution_count": null
  },
  {
   "metadata": {},
   "cell_type": "code",
   "source": "games_df",
   "id": "81b9248526e9fe7c",
   "outputs": [],
   "execution_count": null
  },
  {
   "metadata": {},
   "cell_type": "code",
   "source": [
    "gameID = games_df['GAME_ID']\n",
    "gameID"
   ],
   "id": "d46b5ebff4b53374",
   "outputs": [],
   "execution_count": null
  },
  {
   "metadata": {},
   "cell_type": "code",
   "source": [
    "pbp_df = pd.DataFrame()\n",
    "# Example Game ID (You can get this from team game logs or live scoreboard)\n",
    "for game_id in gameID:  # Replace with the desired game ID\n",
    "\n",
    "# Fetch Play-by-Play data\n",
    "#     try:\n",
    "        pbp = playbyplayv2.PlayByPlayV2(game_id=game_id)\n",
    "        \n",
    "        # Convert to Pandas DataFrame\n",
    "        stats = pbp.get_data_frames()[0]\n",
    "        pbp_df = pd.concat([pbp_df, stats], ignore_index=True)\n",
    "        sleep(6*10e-3)\n",
    "    # except Exception as e:\n",
    "    #     print(f\"Failed to fetch data\")\n",
    "pbp_df"
   ],
   "id": "9514794e97ff4971",
   "outputs": [],
   "execution_count": null
  },
  {
   "metadata": {},
   "cell_type": "code",
   "source": "pbp_df.columns",
   "id": "cb110bd3067f4b25",
   "outputs": [],
   "execution_count": null
  },
  {
   "metadata": {},
   "cell_type": "code",
   "source": [
    "# stats_in_game = pbp_df.to_numpy()\n",
    "# np.save('stats_in_game.npy', stats_in_game)\n"
   ],
   "id": "d72c1bf0cf1ba33f",
   "outputs": [],
   "execution_count": null
  },
  {
   "metadata": {},
   "cell_type": "code",
   "source": [
    "data = np.load('stats_in_game.npy', allow_pickle=True)\n",
    "data"
   ],
   "id": "76822e1c98bfa0d0",
   "outputs": [],
   "execution_count": null
  },
  {
   "metadata": {},
   "cell_type": "code",
   "source": "data = pd.DataFrame(data, columns=pbp_df.columns)\n",
   "id": "c10a3382a7acbacc",
   "outputs": [],
   "execution_count": null
  },
  {
   "metadata": {},
   "cell_type": "code",
   "source": "player_df = pd.DataFrame(gameID)",
   "id": "3e12ae3f9efda41a",
   "outputs": [],
   "execution_count": null
  },
  {
   "metadata": {},
   "cell_type": "code",
   "source": "player_df",
   "id": "b514a35c40bb06ba",
   "outputs": [],
   "execution_count": null
  },
  {
   "metadata": {},
   "cell_type": "code",
   "source": "data = pd.read_csv('stats_in_game.csv')",
   "id": "3f75dcc41c096813",
   "outputs": [],
   "execution_count": null
  },
  {
   "metadata": {},
   "cell_type": "code",
   "source": [
    "# Filter for scoring plays\n",
    "scoring_plays = pbp_df[pbp_df['EVENTMSGTYPE'] == 1]\n",
    "\n",
    "# Filter for fouls\n",
    "fouls = pbp_df[pbp_df['EVENTMSGTYPE'] == 6]\n",
    "\n",
    "# Display specific columns\n",
    "print(scoring_plays[['PCTIMESTRING', 'PERIOD', 'HOMEDESCRIPTION', 'VISITORDESCRIPTION', 'SCORE']])"
   ],
   "id": "420612176e9d343e",
   "outputs": [],
   "execution_count": null
  },
  {
   "metadata": {},
   "cell_type": "code",
   "source": [
    "# Convert time strings to a numerical value\n",
    "data['TIME_REMAINING'] = 720 - (data['PCTIMESTRING'].apply(lambda x: int(x.split(':')[0]) * 60 + int(x.split(':')[1])))\n",
    "\n"
   ],
   "id": "fdcf801bd0f4c6ba",
   "outputs": [],
   "execution_count": null
  },
  {
   "metadata": {},
   "cell_type": "code",
   "source": "data.to_csv('stats_in_game.csv')",
   "id": "a2a4b64c5f4679c9",
   "outputs": [],
   "execution_count": null
  },
  {
   "metadata": {},
   "cell_type": "code",
   "source": [
    "data = pd.read_csv('stats_in_game.csv')\n",
    "data"
   ],
   "id": "5f28aac434efee1c",
   "outputs": [],
   "execution_count": null
  },
  {
   "metadata": {},
   "cell_type": "code",
   "source": "data.columns",
   "id": "a0ccb95b5f434241",
   "outputs": [],
   "execution_count": null
  },
  {
   "metadata": {},
   "cell_type": "code",
   "source": [
    "players_df = pd.DataFrame()\n",
    "for id in gameID:  # Use the game_id from your DataFrame\n",
    "    boxscore = boxscoretraditionalv2.BoxScoreTraditionalV2(game_id=id)\n",
    "    xl = boxscore.get_data_frames()[0]\n",
    "    condition = xl['START_POSITION'] != ''\n",
    "    players_df = pd.concat([players_df, (xl.loc[condition, ['GAME_ID', 'TEAM_ABBREVIATION', 'PLAYER_NAME', 'START_POSITION']])], ignore_index=True)\n",
    "players_df"
   ],
   "id": "c2b861731a93bf5e",
   "outputs": [],
   "execution_count": null
  },
  {
   "metadata": {},
   "cell_type": "code",
   "source": [
    "for i in range(278):\n",
    "    cond1 = players_df['GAME_ID'] == player_df['GAME_ID'][i]\n",
    "    player_df.loc[i, 'TEAM_1'] = players_df.loc[cond1,'TEAM_ABBREVIATION'].unique()[0]\n",
    "    player_df.loc[i, 'PLAYER_1.1'] = players_df.loc[cond1,'PLAYER_NAME'].unique()[0]\n",
    "    player_df.loc[i, 'PLAYER_1.2'] = players_df.loc[cond1,'PLAYER_NAME'].unique()[1]\n",
    "    player_df.loc[i, 'PLAYER_1.3'] = players_df.loc[cond1,'PLAYER_NAME'].unique()[2]\n",
    "    player_df.loc[i, 'PLAYER_1.4'] = players_df.loc[cond1,'PLAYER_NAME'].unique()[3]\n",
    "    player_df.loc[i, 'PLAYER_1.5'] = players_df.loc[cond1,'PLAYER_NAME'].unique()[4]\n",
    "    player_df.loc[i, 'TEAM_2'] = players_df.loc[cond1,'TEAM_ABBREVIATION'].unique()[1]\n",
    "    player_df.loc[i, 'PLAYER_2.1'] = players_df.loc[cond1,'PLAYER_NAME'].unique()[5]\n",
    "    player_df.loc[i, 'PLAYER_2.2'] = players_df.loc[cond1,'PLAYER_NAME'].unique()[6]\n",
    "    player_df.loc[i, 'PLAYER_2.3'] = players_df.loc[cond1,'PLAYER_NAME'].unique()[7]\n",
    "    player_df.loc[i, 'PLAYER_2.4'] = players_df.loc[cond1,'PLAYER_NAME'].unique()[8]\n",
    "    player_df.loc[i, 'PLAYER_2.5'] = players_df.loc[cond1,'PLAYER_NAME'].unique()[9]\n",
    "\n",
    "\n",
    "player_df"
   ],
   "id": "3d48d8a28ef46bd5",
   "outputs": [],
   "execution_count": null
  },
  {
   "metadata": {},
   "cell_type": "code",
   "source": "#demo",
   "id": "37ad96627061bd68",
   "outputs": [],
   "execution_count": null
  },
  {
   "metadata": {},
   "cell_type": "code",
   "source": "final_data = data[['GAME_ID', 'SCOREMARGIN', 'SCORE', 'TIME_REMAINING', 'PERIOD']]\n",
   "id": "dcae22f7affa63ec",
   "outputs": [],
   "execution_count": null
  },
  {
   "metadata": {},
   "cell_type": "code",
   "source": [
    "final_data['TEAM_1'] = None\n",
    "final_data['TEAM_2'] = None\n",
    "final_data['PLAYER_1.1'] = None\n",
    "final_data['PLAYER_1.2'] = None\n",
    "final_data['PLAYER_1.3'] = None\n",
    "final_data['PLAYER_1.4'] = None\n",
    "final_data['PLAYER_1.5'] = None\n",
    "final_data['PLAYER_2.1'] = None\n",
    "final_data['PLAYER_2.2'] = None\n",
    "final_data['PLAYER_2.3'] = None\n",
    "final_data['PLAYER_2.4'] = None\n",
    "final_data['PLAYER_2.5'] = None\n",
    "\n",
    "j = 0\n",
    "for i in range(124992): \n",
    "        game_cond = player_df['GAME_ID'].astype(int) == final_data.loc[i, 'GAME_ID']\n",
    "        final_data.loc[i, 'TEAM_1'] = player_df.loc[game_cond,'TEAM_1'].to_numpy()\n",
    "        final_data.loc[i, 'PLAYER_1.1'] = player_df.loc[game_cond,'PLAYER_1.1'].to_numpy()\n",
    "        final_data.loc[i, 'PLAYER_1.2'] = player_df.loc[game_cond,'PLAYER_1.2'].to_numpy()\n",
    "        final_data.loc[i, 'PLAYER_1.3'] = player_df.loc[game_cond,'PLAYER_1.3'].to_numpy()\n",
    "        final_data.loc[i, 'PLAYER_1.4'] = player_df.loc[game_cond,'PLAYER_1.4'].to_numpy()\n",
    "        final_data.loc[i, 'PLAYER_1.5'] = player_df.loc[game_cond,'PLAYER_1.5'].to_numpy()\n",
    "        final_data.loc[i, 'TEAM_2'] = player_df.loc[game_cond,'TEAM_2'].to_numpy()\n",
    "        final_data.loc[i, 'PLAYER_2.1'] = player_df.loc[game_cond,'PLAYER_2.1'].to_numpy()\n",
    "        final_data.loc[i, 'PLAYER_2.2'] = player_df.loc[game_cond,'PLAYER_2.2'].to_numpy()\n",
    "        final_data.loc[i, 'PLAYER_2.3'] = player_df.loc[game_cond,'PLAYER_2.3'].to_numpy()\n",
    "        final_data.loc[i, 'PLAYER_2.4'] = player_df.loc[game_cond,'PLAYER_2.4'].to_numpy()\n",
    "        final_data.loc[i, 'PLAYER_2.5'] = player_df.loc[game_cond,'PLAYER_2.5'].to_numpy()\n",
    "        if final_data.loc[i, 'GAME_ID'].astype(int) != final_data.loc[i+1, 'GAME_ID'].astype(int) and j < 277:\n",
    "            j+=1\n",
    "            print(j)\n"
   ],
   "id": "64dbd5f0af6d527f",
   "outputs": [],
   "execution_count": null
  },
  {
   "metadata": {},
   "cell_type": "code",
   "source": [
    "# final_data\n",
    "game_cond = player_df['GAME_ID'].astype(int) == final_data.loc[1000, 'GAME_ID']\n",
    "print((player_df.loc[game_cond,'PLAYER_1.1']))\n",
    "# player_df\n",
    "# print(player_df.index())\n",
    "final_data"
   ],
   "id": "dc14e197012d08b3",
   "outputs": [],
   "execution_count": null
  },
  {
   "metadata": {},
   "cell_type": "code",
   "source": "final_data.to_csv('final_data.csv')",
   "id": "f2894ba139f6a1df",
   "outputs": [],
   "execution_count": null
  },
  {
   "metadata": {},
   "cell_type": "code",
   "source": [
    "temp = pd.read_csv('final_data.csv')\n",
    "temp"
   ],
   "id": "d5c09f4640753371",
   "outputs": [],
   "execution_count": null
  },
  {
   "metadata": {},
   "cell_type": "code",
   "source": [
    "# Plot the score progression\n",
    "plt.plot(scoring_plays['TIME_REMAINING'], scoring_plays['HOME_SCORE'], label='Home Team')\n",
    "plt.plot(scoring_plays['TIME_REMAINING'], scoring_plays['AWAY_SCORE'], label='Away Team')\n",
    "plt.gca().invert_xaxis()  # Invert time to show progression\n",
    "plt.xlabel('Time Remaining (seconds)')\n",
    "plt.ylabel('Score')\n",
    "plt.title('Score Progression')\n",
    "plt.legend()\n",
    "plt.show()"
   ],
   "id": "8ff18e17974a6551",
   "outputs": [],
   "execution_count": null
  }
 ],
 "metadata": {
  "kernelspec": {
   "display_name": "Python 3",
   "language": "python",
   "name": "python3"
  },
  "language_info": {
   "codemirror_mode": {
    "name": "ipython",
    "version": 2
   },
   "file_extension": ".py",
   "mimetype": "text/x-python",
   "name": "python",
   "nbconvert_exporter": "python",
   "pygments_lexer": "ipython2",
   "version": "2.7.6"
  }
 },
 "nbformat": 4,
 "nbformat_minor": 5
}
